{
 "cells": [
  {
   "cell_type": "markdown",
   "id": "707c27be",
   "metadata": {},
   "source": [
    "#  S02 T01: Estructura de dades\n",
    "## Nivell 1\n",
    "### Exercici 1\n",
    "Crea una llista que agrupi els mesos de l’any en trimestres (1T: Gener, Febrer i Març, 2T: Abril, Maig, Juny...), és a dir, una llista amb 4 llistes dins."
   ]
  },
  {
   "cell_type": "code",
   "execution_count": 11,
   "id": "ff98031d",
   "metadata": {},
   "outputs": [],
   "source": [
    "T1 = [\"Gener\", \"Febrer\", \"Març\"]\n",
    "T2 = [\"Abril\", \"Maig\", \"Juny\"]\n",
    "T3 = [\"Juliol\", \"Agost\", \"Setembre\"]\n",
    "T4 = [\"Octubre\", \"Novembre\", \"Desembre\"]\n",
    "Any = [T1, T2, T3, T4]"
   ]
  },
  {
   "cell_type": "markdown",
   "id": "f404263b",
   "metadata": {},
   "source": [
    "### Exercici 2\n",
    "Crea un codi que et permeti accedir a:\n",
    "\n",
    "    El segon mes del primer trimestre\n",
    "    Els mesos del primer trimestre\n",
    "    Setembre i octubre"
   ]
  },
  {
   "cell_type": "code",
   "execution_count": 14,
   "id": "f10cad4a",
   "metadata": {},
   "outputs": [
    {
     "name": "stdout",
     "output_type": "stream",
     "text": [
      "Febrer\n",
      "['Gener', 'Febrer', 'Març']\n",
      "Setembre Octubre\n"
     ]
    }
   ],
   "source": [
    "#Accés al segon mes del primer trimestre\n",
    "print(Any[0][1])\n",
    "\n",
    "#Accés als mesos del primer trimestre\n",
    "print(Any[0])\n",
    "\n",
    "#Accés a setembre i octubre\n",
    "print(Any[2][2], Any[3][0])"
   ]
  },
  {
   "cell_type": "markdown",
   "id": "c3347e84",
   "metadata": {},
   "source": [
    "### Exercici 3\n",
    "\n",
    "Crea una llista amb nombres desordenats i respon a les següents preguntes:\n",
    "\n",
    "    Quants números hi ha?\n",
    "    Quantes vegades apareix el número 3\n",
    "    Quantes vegades apareixen els nombres 3 i 4?\n",
    "    Quin és el número més gran?\n",
    "    Quins són els 3 números més petits?\n",
    "    Quin és el rang d’aquesta llista?"
   ]
  },
  {
   "cell_type": "code",
   "execution_count": 10,
   "id": "63972e68",
   "metadata": {},
   "outputs": [
    {
     "name": "stdout",
     "output_type": "stream",
     "text": [
      "33\n",
      "5\n",
      "4\n",
      "9\n",
      "[1, 2, 3]\n",
      "1 9\n"
     ]
    }
   ],
   "source": [
    "#Crea una llista amb nombres desordenats\n",
    "nombres = [3, 1, 3, 5, 4, 8, 7, 9, 4, 5, 6, 1, 3, 5, 4, 9, 8, 7, 5, 1, 3, 2, 1, 1, 9, 8, 7, 5, 6, 5, 4, 1, 3]\n",
    "\n",
    "#Quans números hi ha?\n",
    "print(len(nombres))\n",
    "\n",
    "#Quantes vegades apareixen els nombres 3 i 4?\n",
    "print(nombres.count(3))\n",
    "print(nombres.count(4))\n",
    "\n",
    "#Quin és el número més gran?\n",
    "print(max(nombres))\n",
    "\n",
    "#Quins són els 3 números més petits?\n",
    "nombres.sort()\n",
    "nombres_unics = []\n",
    "for i in nombres:\n",
    "    if i not in nombres_unics:\n",
    "        nombres_unics.append(i)\n",
    "print(nombres_unics[:3])\n",
    "#Quin és el rang d'aquesta llista?\n",
    "print(nombres_unics[0], nombres_unics[-1])\n"
   ]
  },
  {
   "cell_type": "markdown",
   "id": "c1015560",
   "metadata": {},
   "source": [
    "### Exercici 4\n",
    "\n",
    "Crea un diccionari de la següent forma i respon a les preguntes:\n",
    "\n",
    "compra = { \"Pomes\" : {\"Qty\": 5, \"€\": 0.42}, \"Peres\" : {\"Qty\": 3, \"€\": 0.66} }\n",
    "\n",
    "    Afegeix alguna fruita més\n",
    "    Quant han costat les peres en total?\n",
    "    Quantes fruites hem comprat en total?\n",
    "    Quina és la fruita més cara?"
   ]
  },
  {
   "cell_type": "code",
   "execution_count": 122,
   "id": "296b59d3",
   "metadata": {},
   "outputs": [
    {
     "name": "stdout",
     "output_type": "stream",
     "text": [
      "{'Pomes': {'Qty': 5, '€': 0.42}, 'Peres': {'Qty': 3, '€': 0.66}, 'Taronjes': {'Qty': 4, '€': 0.8}}\n",
      "1.98\n",
      "12\n",
      "0.8 Taronjes\n"
     ]
    }
   ],
   "source": [
    "compra = {\"Pomes\": {\"Qty\": 5, \"€\": 0.42}, \"Peres\":{\"Qty\": 3, \"€\": 0.66}}\n",
    "\n",
    "#Afegeix alguna fruita més\n",
    "compra[\"Taronjes\"] = {\"Qty\": 4, \"€\": 0.80}\n",
    "print(compra)\n",
    "\n",
    "#Quant han costat les peres en total?\n",
    "peres = compra.get(\"Peres\").get(\"Qty\")\n",
    "preu_peres = compra.get(\"Peres\").get(\"€\")\n",
    "print(peres*preu_peres)\n",
    "\n",
    "#Quantes fruites hem comprat en total?\n",
    "pomes = compra.get(\"Pomes\").get(\"Qty\")\n",
    "taronjes = compra.get(\"Taronjes\").get(\"Qty\")\n",
    "print(peres + pomes + taronjes)\n",
    "\n",
    "#Quina és la fruita més cara?\n",
    "preu = 0\n",
    "fruita = \"\"\n",
    "for i in compra.keys():\n",
    "    if preu < compra[i][\"€\"]: \n",
    "        preu = compra[i][\"€\"]\n",
    "        fruita = i\n",
    "print(preu, fruita)"
   ]
  },
  {
   "cell_type": "code",
   "execution_count": null,
   "id": "5c878856",
   "metadata": {},
   "outputs": [],
   "source": []
  }
 ],
 "metadata": {
  "kernelspec": {
   "display_name": "Python 3 (ipykernel)",
   "language": "python",
   "name": "python3"
  },
  "language_info": {
   "codemirror_mode": {
    "name": "ipython",
    "version": 3
   },
   "file_extension": ".py",
   "mimetype": "text/x-python",
   "name": "python",
   "nbconvert_exporter": "python",
   "pygments_lexer": "ipython3",
   "version": "3.9.7"
  },
  "toc": {
   "base_numbering": 1,
   "nav_menu": {},
   "number_sections": true,
   "sideBar": true,
   "skip_h1_title": false,
   "title_cell": "Table of Contents",
   "title_sidebar": "Contents",
   "toc_cell": false,
   "toc_position": {},
   "toc_section_display": true,
   "toc_window_display": false
  }
 },
 "nbformat": 4,
 "nbformat_minor": 5
}
