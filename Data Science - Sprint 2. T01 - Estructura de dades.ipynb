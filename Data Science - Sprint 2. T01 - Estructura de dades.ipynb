{
 "cells": [
  {
   "cell_type": "markdown",
   "id": "3ae16306",
   "metadata": {},
   "source": [
    "#  S02 T01: Estructura de dades\n",
    "## Nivell 1\n",
    "### Exercici 1\n",
    "Crea una llista que agrupi els mesos de l’any en trimestres (1T: Gener, Febrer i Març, 2T: Abril, Maig, Juny...), és a dir, una llista amb 4 llistes dins."
   ]
  },
  {
   "cell_type": "code",
   "execution_count": 11,
   "id": "1ce2b8eb",
   "metadata": {},
   "outputs": [],
   "source": [
    "\n",
    "T1 = [\"Gener\", \"Febrer\", \"Març\"]\n",
    "T2 = [\"Abril\", \"Maig\", \"Juny\"]\n",
    "T3 = [\"Juliol\", \"Agost\", \"Setembre\"]\n",
    "T4 = [\"Octubre\", \"Novembre\", \"Desembre\"]\n",
    "Any = [T1, T2, T3, T4]"
   ]
  },
  {
   "cell_type": "markdown",
   "id": "e87aa95d",
   "metadata": {},
   "source": [
    "### Exercici 2\n",
    "Crea un codi que et permeti accedir a:\n",
    "\n",
    "    El segon mes del primer trimestre\n",
    "    Els mesos del primer trimestre\n",
    "    Setembre i octubre"
   ]
  },
  {
   "cell_type": "code",
   "execution_count": 14,
   "id": "53443077",
   "metadata": {},
   "outputs": [
    {
     "name": "stdout",
     "output_type": "stream",
     "text": [
      "Febrer\n",
      "['Gener', 'Febrer', 'Març']\n",
      "Setembre Octubre\n"
     ]
    }
   ],
   "source": [
    "#Accés al segon mes del primer trimestre\n",
    "print(Any[0][1])\n",
    "\n",
    "#Accés als mesos del primer trimestre\n",
    "print(Any[0])\n",
    "\n",
    "#Accés a setembre i octubre\n",
    "print(Any[2][2], Any[3][0])"
   ]
  },
  {
   "cell_type": "markdown",
   "id": "38b4d6e7",
   "metadata": {},
   "source": [
    "### Exercici 3\n",
    "\n",
    "Crea una llista amb nombres desordenats i respon a les següents preguntes:\n",
    "\n",
    "    Quants números hi ha?\n",
    "    Quantes vegades apareix el número 3\n",
    "    Quantes vegades apareixen els nombres 3 i 4?\n",
    "    Quin és el número més gran?\n",
    "    Quins són els 3 números més petits?\n",
    "    Quin és el rang d’aquesta llista?\n"
   ]
  },
  {
   "cell_type": "code",
   "execution_count": 35,
   "id": "33d773c8",
   "metadata": {},
   "outputs": [
    {
     "name": "stdout",
     "output_type": "stream",
     "text": [
      "33\n",
      "5\n",
      "4\n",
      "9\n"
     ]
    },
    {
     "ename": "AttributeError",
     "evalue": "'list' object has no attribute 'argmin'",
     "output_type": "error",
     "traceback": [
      "\u001b[1;31m---------------------------------------------------------------------------\u001b[0m",
      "\u001b[1;31mAttributeError\u001b[0m                            Traceback (most recent call last)",
      "\u001b[1;32m~\\AppData\\Local\\Temp/ipykernel_7780/2224480241.py\u001b[0m in \u001b[0;36m<module>\u001b[1;34m\u001b[0m\n\u001b[0;32m     13\u001b[0m \u001b[1;33m\u001b[0m\u001b[0m\n\u001b[0;32m     14\u001b[0m \u001b[1;31m#Quins són els 3 números més petits?\u001b[0m\u001b[1;33m\u001b[0m\u001b[1;33m\u001b[0m\u001b[0m\n\u001b[1;32m---> 15\u001b[1;33m \u001b[0mprint\u001b[0m\u001b[1;33m(\u001b[0m\u001b[0mnombres\u001b[0m\u001b[1;33m.\u001b[0m\u001b[0margmin\u001b[0m\u001b[1;33m(\u001b[0m\u001b[1;36m3\u001b[0m\u001b[1;33m)\u001b[0m\u001b[1;33m)\u001b[0m\u001b[1;33m\u001b[0m\u001b[1;33m\u001b[0m\u001b[0m\n\u001b[0m\u001b[0;32m     16\u001b[0m \u001b[1;33m\u001b[0m\u001b[0m\n\u001b[0;32m     17\u001b[0m \u001b[1;31m#Quin és el rang d'aquesta llista?\u001b[0m\u001b[1;33m\u001b[0m\u001b[1;33m\u001b[0m\u001b[0m\n",
      "\u001b[1;31mAttributeError\u001b[0m: 'list' object has no attribute 'argmin'"
     ]
    }
   ],
   "source": [
    "#Crea una llista amb nombres desordenats\n",
    "nombres = [3, 1, 3, 5, 4, 8, 7, 9, 4, 5, 6, 1, 3, 5, 4, 9, 8, 7, 5, 1, 3, 2, 1, 1, 9, 8, 7, 5, 6, 5, 4, 1, 3]\n",
    "\n",
    "#Quans números hi ha?\n",
    "print(len(nombres))\n",
    "\n",
    "#Quantes vegades apareixen els nombres 3 i 4?\n",
    "print(nombres.count(3))\n",
    "print(nombres.count(4))\n",
    "\n",
    "#Quin és el número més gran?\n",
    "print(max(nombres))\n",
    "\n",
    "#Quins són els 3 números més petits?\n",
    "\n",
    "#Quin és el rang d'aquesta llista?\n"
   ]
  },
  {
   "cell_type": "code",
   "execution_count": null,
   "id": "a0023905",
   "metadata": {},
   "outputs": [],
   "source": []
  }
 ],
 "metadata": {
  "kernelspec": {
   "display_name": "Python 3 (ipykernel)",
   "language": "python",
   "name": "python3"
  },
  "language_info": {
   "codemirror_mode": {
    "name": "ipython",
    "version": 3
   },
   "file_extension": ".py",
   "mimetype": "text/x-python",
   "name": "python",
   "nbconvert_exporter": "python",
   "pygments_lexer": "ipython3",
   "version": "3.9.7"
  },
  "toc": {
   "base_numbering": 1,
   "nav_menu": {},
   "number_sections": true,
   "sideBar": true,
   "skip_h1_title": false,
   "title_cell": "Table of Contents",
   "title_sidebar": "Contents",
   "toc_cell": false,
   "toc_position": {},
   "toc_section_display": true,
   "toc_window_display": false
  }
 },
 "nbformat": 4,
 "nbformat_minor": 5
}
